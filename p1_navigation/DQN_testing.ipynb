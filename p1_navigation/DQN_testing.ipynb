{
 "cells": [
  {
   "cell_type": "code",
   "execution_count": null,
   "metadata": {},
   "outputs": [],
   "source": [
    "import time\n",
    "import numpy as np\n",
    "import torch\n",
    "\n",
    "from get_args import get_args\n",
    "from agent import Agent\n",
    "from utils import load_filepath, load_checkpoint, plot_scores, print_debug_info, print_status, save_checkpoint"
   ]
  },
  {
   "cell_type": "code",
   "execution_count": null,
   "metadata": {},
   "outputs": [],
   "source": [
    "from IPython.display import clear_output\n",
    "import matplotlib.pyplot as plt\n",
    "%matplotlib inline"
   ]
  },
  {
   "cell_type": "code",
   "execution_count": null,
   "metadata": {},
   "outputs": [],
   "source": [
    "from unityagents import UnityEnvironment"
   ]
  },
  {
   "cell_type": "code",
   "execution_count": null,
   "metadata": {},
   "outputs": [],
   "source": [
    "device = torch.device(\"cuda:0\" if torch.cuda.is_available() else \"cpu\")"
   ]
  },
  {
   "cell_type": "code",
   "execution_count": null,
   "metadata": {},
   "outputs": [],
   "source": [
    "args = get_args()\n",
    "args.framework = \"DDQN\""
   ]
  },
  {
   "cell_type": "code",
   "execution_count": null,
   "metadata": {},
   "outputs": [],
   "source": [
    "for arg in vars(args):\n",
    "    print(\"{}: {}\".format(arg, getattr(args, arg)))"
   ]
  },
  {
   "cell_type": "code",
   "execution_count": null,
   "metadata": {
    "scrolled": true
   },
   "outputs": [],
   "source": [
    "start_time = time.time()\n",
    "sep = \"#\"*50\n",
    "unity_env = UnityEnvironment(file_name=\"Banana_Windows_x86_64/Banana.exe\", no_graphics=True)\n",
    "# get the default brain (In this environment there is only one agent/brain)\n",
    "brain_name = unity_env.brain_names[0]\n",
    "brain = unity_env.brains[brain_name]\n",
    "env = unity_env.reset(train_mode=True)[brain_name]\n",
    "nA = brain.vector_action_space_size\n",
    "nS = len(env.vector_observations[0])"
   ]
  },
  {
   "cell_type": "code",
   "execution_count": null,
   "metadata": {},
   "outputs": [],
   "source": [
    "agent = Agent(nS, nA, device, args)"
   ]
  },
  {
   "cell_type": "code",
   "execution_count": null,
   "metadata": {},
   "outputs": [],
   "source": [
    "env = unity_env.reset(train_mode=args.train)[brain_name]\n",
    "state = env.vector_observations[0]\n"
   ]
  },
  {
   "cell_type": "code",
   "execution_count": null,
   "metadata": {},
   "outputs": [],
   "source": [
    "for i in range(66):\n",
    "    action = agent.act(state)\n",
    "    env = unity_env.step(action)[brain_name]\n",
    "\n",
    "    #collect info about new state\n",
    "    reward = env.rewards[0]\n",
    "    next_state = env.vector_observations[0]\n",
    "    done = env.local_done[0]\n",
    "\n",
    "    agent.teststep(state, action, reward, next_state, done)\n",
    "    agent.memory.add(state, action, reward, next_state, done)\n",
    "\n",
    "    state = next_state\n",
    "    "
   ]
  },
  {
   "cell_type": "code",
   "execution_count": null,
   "metadata": {},
   "outputs": [],
   "source": [
    "batch = agent.memory.sample()\n",
    "#batch = state, action, reward, next_state, done"
   ]
  },
  {
   "cell_type": "code",
   "execution_count": null,
   "metadata": {},
   "outputs": [],
   "source": [
    "for state, action, reward, next_state, done in zip(*batch):\n",
    "    print(\"STATE:\\n{}\".format(state))\n",
    "    print(\"ACTION:\\n{}\".format(action))\n",
    "    print(\"REWARD:\\n{}\".format(reward))\n",
    "    print(\"NEXT STATE:\\n{}\".format(next_state))\n",
    "    print(\"DONE:\\n{}\".format(done))    "
   ]
  },
  {
   "cell_type": "code",
   "execution_count": null,
   "metadata": {},
   "outputs": [],
   "source": [
    "print(\"STATE:\\n{}\".format(state))\n",
    "print(\"ACTION:\\n{}\".format(action))\n",
    "print(\"REWARD:\\n{}\".format(reward))\n",
    "print(\"NEXT STATE:\\n{}\".format(next_state))\n",
    "print(\"DONE:\\n{}\".format(done))"
   ]
  },
  {
   "cell_type": "code",
   "execution_count": null,
   "metadata": {},
   "outputs": [],
   "source": [
    "#Binary tree\n",
    "class Node:\n",
    "    def __init__(self,data)"
   ]
  },
  {
   "cell_type": "code",
   "execution_count": null,
   "metadata": {},
   "outputs": [],
   "source": []
  },
  {
   "cell_type": "code",
   "execution_count": null,
   "metadata": {},
   "outputs": [],
   "source": []
  },
  {
   "cell_type": "code",
   "execution_count": null,
   "metadata": {},
   "outputs": [],
   "source": []
  },
  {
   "cell_type": "code",
   "execution_count": null,
   "metadata": {},
   "outputs": [],
   "source": []
  },
  {
   "cell_type": "code",
   "execution_count": null,
   "metadata": {},
   "outputs": [],
   "source": []
  },
  {
   "cell_type": "code",
   "execution_count": null,
   "metadata": {},
   "outputs": [],
   "source": []
  }
 ],
 "metadata": {
  "kernelspec": {
   "display_name": "drlnd",
   "language": "python",
   "name": "drlnd"
  },
  "language_info": {
   "codemirror_mode": {
    "name": "ipython",
    "version": 3
   },
   "file_extension": ".py",
   "mimetype": "text/x-python",
   "name": "python",
   "nbconvert_exporter": "python",
   "pygments_lexer": "ipython3",
   "version": "3.6.8"
  }
 },
 "nbformat": 4,
 "nbformat_minor": 2
}

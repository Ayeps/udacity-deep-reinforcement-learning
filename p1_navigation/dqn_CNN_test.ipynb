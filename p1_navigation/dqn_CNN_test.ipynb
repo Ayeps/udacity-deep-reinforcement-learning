{
 "cells": [
  {
   "cell_type": "code",
   "execution_count": 1,
   "metadata": {},
   "outputs": [],
   "source": [
    "import time\n",
    "import numpy as np\n",
    "import torch\n",
    "\n",
    "from get_args import get_args\n",
    "from agent import Agent\n",
    "from utils import load_filepath, load_checkpoint, plot_scores, print_debug_info, print_status, save_checkpoint\n",
    "from IPython.display import clear_output\n",
    "import matplotlib.pyplot as plt\n",
    "%matplotlib inline\n",
    "from unityagents import UnityEnvironment\n",
    "\n",
    "device = torch.device(\"cuda:0\" if torch.cuda.is_available() else \"cpu\")\n",
    "\n",
    "args = get_args()\n",
    "args.framework = \"D2DQN\"\n",
    "args.pixels = True"
   ]
  },
  {
   "cell_type": "code",
   "execution_count": 2,
   "metadata": {},
   "outputs": [
    {
     "name": "stdout",
     "output_type": "stream",
     "text": [
      "framework: D2DQN\n",
      "prioritized_replay: False\n",
      "alpha: 0.4\n",
      "batchsize: 64\n",
      "buffersize: 100000\n",
      "c: 8\n",
      "continue: False\n",
      "debug: False\n",
      "dropout: 0.05\n",
      "epsilon: 1.0\n",
      "epsilon_decay: 0.999\n",
      "epsilon_min: 0.075\n",
      "gamma: 0.99\n",
      "latest: False\n",
      "learn_rate: 0.00025\n",
      "momentum: 0.95\n",
      "nographics: False\n",
      "num_episodes: 1500\n",
      "optimizer: Adam\n",
      "pixels: True\n",
      "print_count: 15\n",
      "tau: 0.001\n",
      "train: False\n",
      "update_every: 4\n",
      "verbose: False\n"
     ]
    }
   ],
   "source": [
    "for arg in vars(args):\n",
    "    print(\"{}: {}\".format(arg, getattr(args, arg)))"
   ]
  },
  {
   "cell_type": "code",
   "execution_count": 3,
   "metadata": {
    "scrolled": true
   },
   "outputs": [
    {
     "name": "stderr",
     "output_type": "stream",
     "text": [
      "INFO:unityagents:\n",
      "'Academy' started successfully!\n",
      "Unity Academy name: Academy\n",
      "        Number of Brains: 1\n",
      "        Number of External Brains : 1\n",
      "        Lesson number : 0\n",
      "        Reset Parameters :\n",
      "\t\t\n",
      "Unity brain name: BananaBrain\n",
      "        Number of Visual Observations (per agent): 1\n",
      "        Vector Observation space type: continuous\n",
      "        Vector Observation space size (per agent): 0\n",
      "        Number of stacked Vector Observation: 1\n",
      "        Vector Action space type: discrete\n",
      "        Vector Action space size (per agent): 4\n",
      "        Vector Action descriptions: , , , \n"
     ]
    },
    {
     "name": "stdout",
     "output_type": "stream",
     "text": [
      "Using Pixel-based training.\n"
     ]
    }
   ],
   "source": [
    "start_time = time.time()\n",
    "sep = \"#\"*50\n",
    "unity_env = UnityEnvironment(file_name=\"VisualBanana_Windows_x86_64/Banana.exe\", no_graphics=True)\n",
    "# get the default brain (In this environment there is only one agent/brain)\n",
    "brain_name = unity_env.brain_names[0]\n",
    "brain = unity_env.brains[brain_name]\n",
    "env = unity_env.reset(train_mode=True)[brain_name]\n",
    "nA = brain.vector_action_space_size\n",
    "nS = len(env.vector_observations[0])\n",
    "agent = Agent(nS, nA, device, args)"
   ]
  },
  {
   "cell_type": "code",
   "execution_count": null,
   "metadata": {},
   "outputs": [],
   "source": []
  },
  {
   "cell_type": "code",
   "execution_count": 10,
   "metadata": {},
   "outputs": [
    {
     "name": "stdout",
     "output_type": "stream",
     "text": [
      "(1, 84, 84, 3)\n",
      "<class 'numpy.ndarray'>\n",
      "torch.Size([1, 84, 84, 3])\n"
     ]
    }
   ],
   "source": [
    "state = env.visual_observations[0]\n",
    "print(state.shape)\n",
    "print(type(state))\n",
    "state = torch.from_numpy(state)\n",
    "print(state.shape)"
   ]
  },
  {
   "cell_type": "code",
   "execution_count": 17,
   "metadata": {},
   "outputs": [
    {
     "name": "stdout",
     "output_type": "stream",
     "text": [
      "(3, 84, 84)\n",
      "<class 'numpy.ndarray'>\n"
     ]
    }
   ],
   "source": [
    "state = env.visual_observations[0].squeeze(0).transpose(2,0,1)\n",
    "print(state.shape)\n",
    "print(type(state))\n"
   ]
  },
  {
   "cell_type": "code",
   "execution_count": 11,
   "metadata": {},
   "outputs": [
    {
     "data": {
      "text/plain": [
       "torch.Size([3, 84, 84])"
      ]
     },
     "execution_count": 11,
     "metadata": {},
     "output_type": "execute_result"
    }
   ],
   "source": [
    "state = env.visual_observations[0]\n",
    "state = torch.from_numpy(state).squeeze(0).transpose(2,0)\n",
    "#state = state\n",
    "state.shape"
   ]
  },
  {
   "cell_type": "code",
   "execution_count": null,
   "metadata": {},
   "outputs": [],
   "source": [
    "state = env.visual_observations[0]\n",
    "state = state.squeeze(0).transpose(2,0,1)\n",
    "state.shape"
   ]
  },
  {
   "cell_type": "code",
   "execution_count": null,
   "metadata": {},
   "outputs": [],
   "source": []
  },
  {
   "cell_type": "code",
   "execution_count": 5,
   "metadata": {},
   "outputs": [
    {
     "name": "stdout",
     "output_type": "stream",
     "text": [
      "(1, 84, 84, 3)\n",
      "(1, 84, 84, 3)\n",
      "(1, 84, 84, 3)\n",
      "(1, 84, 84, 3)\n",
      "(1, 84, 84, 3)\n",
      "(1, 84, 84, 3)\n",
      "(1, 84, 84, 3)\n",
      "(1, 84, 84, 3)\n",
      "(1, 84, 84, 3)\n",
      "(1, 84, 84, 3)\n",
      "(1, 84, 84, 3)\n",
      "(1, 84, 84, 3)\n",
      "(1, 84, 84, 3)\n",
      "(1, 84, 84, 3)\n",
      "(1, 84, 84, 3)\n",
      "(1, 84, 84, 3)\n",
      "(1, 84, 84, 3)\n",
      "(1, 84, 84, 3)\n",
      "(1, 84, 84, 3)\n",
      "(1, 84, 84, 3)\n",
      "(1, 84, 84, 3)\n",
      "(1, 84, 84, 3)\n",
      "(1, 84, 84, 3)\n",
      "(1, 84, 84, 3)\n",
      "(1, 84, 84, 3)\n",
      "(1, 84, 84, 3)\n",
      "(1, 84, 84, 3)\n",
      "(1, 84, 84, 3)\n",
      "(1, 84, 84, 3)\n",
      "(1, 84, 84, 3)\n",
      "(1, 84, 84, 3)\n",
      "(1, 84, 84, 3)\n",
      "(1, 84, 84, 3)\n",
      "(1, 84, 84, 3)\n",
      "(1, 84, 84, 3)\n",
      "(1, 84, 84, 3)\n",
      "(1, 84, 84, 3)\n",
      "(1, 84, 84, 3)\n",
      "(1, 84, 84, 3)\n",
      "(1, 84, 84, 3)\n",
      "(1, 84, 84, 3)\n",
      "(1, 84, 84, 3)\n",
      "(1, 84, 84, 3)\n",
      "(1, 84, 84, 3)\n",
      "(1, 84, 84, 3)\n",
      "(1, 84, 84, 3)\n",
      "(1, 84, 84, 3)\n",
      "(1, 84, 84, 3)\n",
      "(1, 84, 84, 3)\n",
      "(1, 84, 84, 3)\n",
      "(1, 84, 84, 3)\n",
      "(1, 84, 84, 3)\n",
      "(1, 84, 84, 3)\n",
      "(1, 84, 84, 3)\n",
      "(1, 84, 84, 3)\n",
      "(1, 84, 84, 3)\n",
      "(1, 84, 84, 3)\n",
      "(1, 84, 84, 3)\n",
      "(1, 84, 84, 3)\n",
      "(1, 84, 84, 3)\n"
     ]
    }
   ],
   "source": [
    "#state = torch.from_numpy(env.visual_observations[0]).float().transpose(3,1).to(device)\n",
    "state = env.visual_observations[0]\n",
    "\n",
    "for i in range(60):    \n",
    "    print(state.shape)\n",
    "    #action = agent.act(state.squeeze(0).transpose(2,0,1))\n",
    "    action = agent.act(state)\n",
    "    env = unity_env.step(action)[brain_name]\n",
    "\n",
    "    #collect info about new state\n",
    "    reward = env.rewards[0]\n",
    "    next_state = env.visual_observations[0]\n",
    "    done = env.local_done[0]\n",
    "    #action = torch.from_numpy(action)\n",
    "    agent.teststep(state, action, reward, next_state, done)\n",
    "    agent.buffer.add(state, action, reward, next_state, done)\n",
    "\n",
    "    state = next_state\n",
    "    "
   ]
  },
  {
   "cell_type": "code",
   "execution_count": null,
   "metadata": {},
   "outputs": [],
   "source": [
    "batch = agent.buffer.sample()\n",
    "#batch = state, action, reward, next_state, done"
   ]
  },
  {
   "cell_type": "code",
   "execution_count": null,
   "metadata": {},
   "outputs": [],
   "source": [
    "for state, action, reward, next_state, done in zip(*batch):\n",
    "    print(\"STATE:\\n{}\".format(state))\n",
    "    print(\"ACTION:\\n{}\".format(action))\n",
    "    print(\"REWARD:\\n{}\".format(reward))\n",
    "    print(\"NEXT STATE:\\n{}\".format(next_state))\n",
    "    print(\"DONE:\\n{}\".format(done))    "
   ]
  },
  {
   "cell_type": "code",
   "execution_count": null,
   "metadata": {},
   "outputs": [],
   "source": [
    "print(\"STATE:\\n{}\".format(state))\n",
    "print(\"ACTION:\\n{}\".format(action))\n",
    "print(\"REWARD:\\n{}\".format(reward))\n",
    "print(\"NEXT STATE:\\n{}\".format(next_state))\n",
    "print(\"DONE:\\n{}\".format(done))"
   ]
  },
  {
   "cell_type": "code",
   "execution_count": null,
   "metadata": {},
   "outputs": [],
   "source": [
    "#Binary tree\n",
    "class Node:\n",
    "    def __init__(self,data)"
   ]
  },
  {
   "cell_type": "code",
   "execution_count": null,
   "metadata": {},
   "outputs": [],
   "source": []
  },
  {
   "cell_type": "code",
   "execution_count": null,
   "metadata": {},
   "outputs": [],
   "source": []
  },
  {
   "cell_type": "code",
   "execution_count": null,
   "metadata": {},
   "outputs": [],
   "source": []
  },
  {
   "cell_type": "code",
   "execution_count": null,
   "metadata": {},
   "outputs": [],
   "source": []
  },
  {
   "cell_type": "code",
   "execution_count": null,
   "metadata": {},
   "outputs": [],
   "source": []
  },
  {
   "cell_type": "code",
   "execution_count": null,
   "metadata": {},
   "outputs": [],
   "source": [
    "unity_env.close()\n"
   ]
  },
  {
   "cell_type": "code",
   "execution_count": null,
   "metadata": {},
   "outputs": [],
   "source": []
  }
 ],
 "metadata": {
  "kernelspec": {
   "display_name": "drlnd",
   "language": "python",
   "name": "drlnd"
  },
  "language_info": {
   "codemirror_mode": {
    "name": "ipython",
    "version": 3
   },
   "file_extension": ".py",
   "mimetype": "text/x-python",
   "name": "python",
   "nbconvert_exporter": "python",
   "pygments_lexer": "ipython3",
   "version": "3.6.8"
  }
 },
 "nbformat": 4,
 "nbformat_minor": 2
}
